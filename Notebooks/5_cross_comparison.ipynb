{
 "cells": [
  {
   "cell_type": "markdown",
   "metadata": {},
   "source": [
    "## Comparing Across the three datasets:\n",
    "\n",
    "### Estimating a Non-spatial Regression Model\n",
    "\n",
    "We now have looked at Pune city individually and by comparing two datasets with each other.\n",
    "1.  **Socio-Economic Factors:** We understand how Pune's society looks, and understood where there is a dominant population of majorities and minorities in the city. We also saw how economic activity is spread across the two social groups by comparing marginal low-output activities.\n",
    "\n",
    "1. **Municipal Investment** We understood how the street network changes and is laid out in each census ward. We also checked how the density of population and streets compares against each other. What areas have the expected density, and which do not (higher or lower)\n",
    "\n",
    "1. **Transit Infrastructure** We see how the PMPML is spread across the city, and which areas seem over, or underserved depending on the population, and population density.\n",
    "\n",
    "After seeing all these insights, we can further check whether there is any observable correlation across these three datasets. As explained in the introduction, the groups classified as SC (Scheduled Caste) and ST (Scheduled Tribes) are among the most socially and economically disadvantaged in India. After looking through the data, and the study we conducted, the following indicators felt interesting to look at as predictors of a ward's SC and ST proportion.\n",
    "\n",
    "1. **Number of Bus Stops** A larger number of bus stops in an area gives a larger spread of areas a user/commuter can travel without needing to change lines/vehicles. This gives better access to larger parts of the city.\n",
    "\n",
    "1. **Population Density** Ideally a denser area of the city would see a larger concentration of services as well. How this compares to other factors will be interesting to see.\n",
    "\n",
    "1. **Kilometers of Street Length per Resident** Informal settlements, also called slums, tend to have fewer 'legitimate'roads, leading to poor quality access paths without sufficient asphalting, footpaths, or other street infrastructure. As we have established, a disproportionately large number of SC/ST citizens form the poorest sections of society, and have a higher likelihood of residing in these settlements. As a result, this would be an interesting variable to consider.\n",
    "\n",
    "1. **Proportion of Literate Residents** This is an important factor to consider. An illiterate person has fewer economic opportuties, and consequently also a lower spending power. In a city like Pune, where only 18.8% of the population uses public transport, bus nearly 33% walk, we can guess that the cost of a bus ticket or pass may be prohibitively expensive for at least some of those who are exclusively pedestrian."
   ]
  },
  {
   "cell_type": "code",
   "execution_count": 1,
   "metadata": {},
   "outputs": [
    {
     "name": "stderr",
     "output_type": "stream",
     "text": [
      "/opt/conda/lib/python3.7/site-packages/pysal/model/spvcm/abstracts.py:10: UserWarning: The `dill` module is required to use the sqlite backend fully.\n",
      "  from .sqlite import head_to_sql, start_sql\n"
     ]
    }
   ],
   "source": [
    "import geopandas as gpd\n",
    "import matplotlib.pyplot as plt\n",
    "import numpy as np\n",
    "import folium\n",
    "import pandas as pd\n",
    "import pysal as ps\n",
    "import seaborn as sns\n",
    "import statsmodels.api as sm\n",
    "from cartopy import crs as ccrs\n",
    "from geopy.distance import great_circle\n",
    "from shapely.geometry import Point\n",
    "from scipy import stats\n",
    "from statsmodels.stats.outliers_influence import variance_inflation_factor as vif\n",
    "from statsmodels.tools.tools import add_constant\n",
    "\n",
    "np.random.seed(0)\n",
    "%matplotlib inline"
   ]
  },
  {
   "cell_type": "code",
   "execution_count": 2,
   "metadata": {},
   "outputs": [],
   "source": [
    "pnq_census = gpd.read_file(\"data/PCA_complete/PCA_complete.shp\")\n",
    "pnq_census = gpd.GeoDataFrame(pnq_census)"
   ]
  },
  {
   "cell_type": "code",
   "execution_count": 3,
   "metadata": {},
   "outputs": [
    {
     "data": {
      "text/plain": [
       "['Ward',\n",
       " 'No_HH',\n",
       " 'TOT_P',\n",
       " 'TOT_M',\n",
       " 'TOT_F',\n",
       " 'P_06',\n",
       " 'M_06',\n",
       " 'F_06',\n",
       " 'P_SC',\n",
       " 'M_SC',\n",
       " 'F_SC',\n",
       " 'P_ST',\n",
       " 'M_ST',\n",
       " 'F_ST',\n",
       " 'P_LIT',\n",
       " 'M_LIT',\n",
       " 'F_LIT',\n",
       " 'P_ILL',\n",
       " 'M_ILL',\n",
       " 'F_ILL',\n",
       " 'TOT_WORK_P',\n",
       " 'TOT_WORK_M',\n",
       " 'TOT_WORK_F',\n",
       " 'MAINWORK_P',\n",
       " 'MAINWORK_M',\n",
       " 'MAINWORK_F',\n",
       " 'MAIN_CL_P',\n",
       " 'MAIN_CL_M',\n",
       " 'MAIN_CL_F',\n",
       " 'MAIN_AL_P',\n",
       " 'MAIN_AL_M',\n",
       " 'MAIN_AL_F',\n",
       " 'MAIN_HH_P',\n",
       " 'MAIN_HH_M',\n",
       " 'MAIN_HH_F',\n",
       " 'MAIN_OT_P',\n",
       " 'MAIN_OT_M',\n",
       " 'MAIN_OT_F',\n",
       " 'MARGWORK_P',\n",
       " 'MARGWORK_M',\n",
       " 'MARGWORK_F',\n",
       " 'MARG_CL_P',\n",
       " 'MARG_CL_M',\n",
       " 'MARG_CL_F',\n",
       " 'MARG_AL_P',\n",
       " 'MARG_AL_M',\n",
       " 'MARG_AL_F',\n",
       " 'MARG_HH_P',\n",
       " 'MARG_HH_M',\n",
       " 'MARG_HH_F',\n",
       " 'MARG_OT_P',\n",
       " 'MARG_OT_M',\n",
       " 'MARG_OT_F',\n",
       " 'MARGWORK_3',\n",
       " 'MARGWORK_1',\n",
       " 'MARGWORK_2',\n",
       " 'MARG_CL_3_',\n",
       " 'MARG_CL__1',\n",
       " 'MARG_CL__2',\n",
       " 'MARG_AL_3_',\n",
       " 'MARG_AL__1',\n",
       " 'MARG_AL__2',\n",
       " 'MARG_HH_3_',\n",
       " 'MARG_HH__1',\n",
       " 'MARG_HH__2',\n",
       " 'MARG_OT_3_',\n",
       " 'MARG_OT__1',\n",
       " 'MARG_OT__2',\n",
       " 'MARGWORK_0',\n",
       " 'MARGWORK_4',\n",
       " 'MARGWORK_5',\n",
       " 'MARG_CL_0_',\n",
       " 'MARG_CL__3',\n",
       " 'MARG_CL__4',\n",
       " 'MARG_AL_0_',\n",
       " 'MARG_AL__3',\n",
       " 'MARG_AL__4',\n",
       " 'MARG_HH_0_',\n",
       " 'MARG_HH__3',\n",
       " 'MARG_HH__4',\n",
       " 'MARG_OT_0_',\n",
       " 'MARG_OT__3',\n",
       " 'MARG_OT__4',\n",
       " 'NON_WORK_P',\n",
       " 'NON_WORK_M',\n",
       " 'NON_WORK_F',\n",
       " 'name',\n",
       " 'area',\n",
       " 'pct_scst',\n",
       " 'dom',\n",
       " 'pct_lit',\n",
       " 'pct_marg',\n",
       " 'Unnamed_ 0',\n",
       " 'circuity_a',\n",
       " 'clean_inte',\n",
       " 'clean_in_1',\n",
       " 'edge_densi',\n",
       " 'edge_lengt',\n",
       " 'edge_len_1',\n",
       " 'intersecti',\n",
       " 'intersec_1',\n",
       " 'k_avg',\n",
       " 'm',\n",
       " 'n',\n",
       " 'node_densi',\n",
       " 'self_loop_',\n",
       " 'street_den',\n",
       " 'street_len',\n",
       " 'street_l_1',\n",
       " 'street_seg',\n",
       " 'streets_pe',\n",
       " 'streets__1',\n",
       " 'streets__2',\n",
       " 'str_per_P',\n",
       " 'P_per_str',\n",
       " 'str_dens_n',\n",
       " 'int_per_P',\n",
       " 'P_per_int',\n",
       " 'area_sqkm',\n",
       " 'pop_dens',\n",
       " 'pop_dens_n',\n",
       " 'dens_ratio',\n",
       " 'stop_count',\n",
       " 'lines_medi',\n",
       " 'stops_per_',\n",
       " 'geometry']"
      ]
     },
     "execution_count": 3,
     "metadata": {},
     "output_type": "execute_result"
    }
   ],
   "source": [
    "list(pnq_census)"
   ]
  },
  {
   "cell_type": "code",
   "execution_count": 4,
   "metadata": {},
   "outputs": [],
   "source": [
    "response = 'pct_scst'\n",
    "pnq_census = pnq_census.dropna(subset=[response])"
   ]
  },
  {
   "cell_type": "code",
   "execution_count": 5,
   "metadata": {},
   "outputs": [],
   "source": [
    "predictors = ['stop_count', 'pct_lit', 'str_per_P', 'pop_dens']\n",
    "X = pnq_census[predictors].dropna()\n",
    "y = pnq_census.loc[X.index][response]"
   ]
  },
  {
   "cell_type": "code",
   "execution_count": 6,
   "metadata": {},
   "outputs": [
    {
     "name": "stdout",
     "output_type": "stream",
     "text": [
      "                            OLS Regression Results                            \n",
      "==============================================================================\n",
      "Dep. Variable:               pct_scst   R-squared:                       0.454\n",
      "Model:                            OLS   Adj. R-squared:                  0.437\n",
      "Method:                 Least Squares   F-statistic:                     27.44\n",
      "Date:                Thu, 25 Apr 2019   Prob (F-statistic):           1.40e-16\n",
      "Time:                        02:41:31   Log-Likelihood:                -469.92\n",
      "No. Observations:                 137   AIC:                             949.8\n",
      "Df Residuals:                     132   BIC:                             964.4\n",
      "Df Model:                           4                                         \n",
      "Covariance Type:            nonrobust                                         \n",
      "==============================================================================\n",
      "                 coef    std err          t      P>|t|      [0.025      0.975]\n",
      "------------------------------------------------------------------------------\n",
      "const        120.8627     10.335     11.694      0.000     100.418     141.307\n",
      "stop_count    -0.5389      0.162     -3.318      0.001      -0.860      -0.218\n",
      "pct_lit       -1.2913      0.125    -10.371      0.000      -1.538      -1.045\n",
      "str_per_P      2.7640      1.035      2.671      0.009       0.717       4.811\n",
      "pop_dens     -3.1e-05   2.57e-05     -1.209      0.229   -8.17e-05    1.97e-05\n",
      "==============================================================================\n",
      "Omnibus:                       28.535   Durbin-Watson:                   1.693\n",
      "Prob(Omnibus):                  0.000   Jarque-Bera (JB):               44.756\n",
      "Skew:                           1.026   Prob(JB):                     1.91e-10\n",
      "Kurtosis:                       4.905   Cond. No.                     6.53e+05\n",
      "==============================================================================\n",
      "\n",
      "Warnings:\n",
      "[1] Standard Errors assume that the covariance matrix of the errors is correctly specified.\n",
      "[2] The condition number is large, 6.53e+05. This might indicate that there are\n",
      "strong multicollinearity or other numerical problems.\n"
     ]
    },
    {
     "name": "stderr",
     "output_type": "stream",
     "text": [
      "/opt/conda/lib/python3.7/site-packages/numpy/core/fromnumeric.py:2389: FutureWarning: Method .ptp is deprecated and will be removed in a future version. Use numpy.ptp instead.\n",
      "  return ptp(axis=axis, out=out, **kwargs)\n"
     ]
    }
   ],
   "source": [
    "Xc = add_constant(X)\n",
    "model = sm.OLS(y, Xc)\n",
    "result = model.fit()\n",
    "print(result.summary())"
   ]
  },
  {
   "cell_type": "code",
   "execution_count": 7,
   "metadata": {},
   "outputs": [
    {
     "data": {
      "text/html": [
       "<div>\n",
       "<style scoped>\n",
       "    .dataframe tbody tr th:only-of-type {\n",
       "        vertical-align: middle;\n",
       "    }\n",
       "\n",
       "    .dataframe tbody tr th {\n",
       "        vertical-align: top;\n",
       "    }\n",
       "\n",
       "    .dataframe thead th {\n",
       "        text-align: right;\n",
       "    }\n",
       "</style>\n",
       "<table border=\"1\" class=\"dataframe\">\n",
       "  <thead>\n",
       "    <tr style=\"text-align: right;\">\n",
       "      <th></th>\n",
       "      <th>pct_scst</th>\n",
       "      <th>pct_lit</th>\n",
       "      <th>pop_dens</th>\n",
       "      <th>stop_count</th>\n",
       "      <th>str_per_P</th>\n",
       "    </tr>\n",
       "  </thead>\n",
       "  <tbody>\n",
       "    <tr>\n",
       "      <th>pct_scst</th>\n",
       "      <td>1.00</td>\n",
       "      <td>-0.63</td>\n",
       "      <td>-0.04</td>\n",
       "      <td>-0.01</td>\n",
       "      <td>0.06</td>\n",
       "    </tr>\n",
       "    <tr>\n",
       "      <th>pct_lit</th>\n",
       "      <td>-0.63</td>\n",
       "      <td>1.00</td>\n",
       "      <td>-0.07</td>\n",
       "      <td>-0.12</td>\n",
       "      <td>0.04</td>\n",
       "    </tr>\n",
       "    <tr>\n",
       "      <th>pop_dens</th>\n",
       "      <td>-0.04</td>\n",
       "      <td>-0.07</td>\n",
       "      <td>1.00</td>\n",
       "      <td>-0.45</td>\n",
       "      <td>-0.51</td>\n",
       "    </tr>\n",
       "    <tr>\n",
       "      <th>stop_count</th>\n",
       "      <td>-0.01</td>\n",
       "      <td>-0.12</td>\n",
       "      <td>-0.45</td>\n",
       "      <td>1.00</td>\n",
       "      <td>0.70</td>\n",
       "    </tr>\n",
       "    <tr>\n",
       "      <th>str_per_P</th>\n",
       "      <td>0.06</td>\n",
       "      <td>0.04</td>\n",
       "      <td>-0.51</td>\n",
       "      <td>0.70</td>\n",
       "      <td>1.00</td>\n",
       "    </tr>\n",
       "  </tbody>\n",
       "</table>\n",
       "</div>"
      ],
      "text/plain": [
       "            pct_scst  pct_lit  pop_dens  stop_count  str_per_P\n",
       "pct_scst        1.00    -0.63     -0.04       -0.01       0.06\n",
       "pct_lit        -0.63     1.00     -0.07       -0.12       0.04\n",
       "pop_dens       -0.04    -0.07      1.00       -0.45      -0.51\n",
       "stop_count     -0.01    -0.12     -0.45        1.00       0.70\n",
       "str_per_P       0.06     0.04     -0.51        0.70       1.00"
      ]
     },
     "execution_count": 7,
     "metadata": {},
     "output_type": "execute_result"
    }
   ],
   "source": [
    "correlations = pnq_census[[response] + sorted(predictors)].corr()\n",
    "correlations.round(2)"
   ]
  },
  {
   "cell_type": "code",
   "execution_count": 8,
   "metadata": {},
   "outputs": [
    {
     "data": {
      "image/png": "[encoded data removed]",
      "text/plain": [
       "<Figure size 432x288 with 2 Axes>"
      ]
     },
     "metadata": {},
     "output_type": "display_data"
    }
   ],
   "source": [
    "sns.set(style='white')\n",
    "ax = sns.heatmap(correlations, vmin=-1, vmax=1, center=0,\n",
    "                 cmap=plt.cm.coolwarm, square=True, linewidths=1)"
   ]
  },
  {
   "cell_type": "markdown",
   "metadata": {},
   "source": [
    "Here we see some interesting correlations."
   ]
  }
 ],
 "metadata": {
  "kernelspec": {
   "display_name": "Python 3",
   "language": "python",
   "name": "python3"
  },
  "language_info": {
   "codemirror_mode": {
    "name": "ipython",
    "version": 3
   },
   "file_extension": ".py",
   "mimetype": "text/x-python",
   "name": "python",
   "nbconvert_exporter": "python",
   "pygments_lexer": "ipython3",
   "version": "3.7.1"
  }
 },
 "nbformat": 4,
 "nbformat_minor": 2
}
